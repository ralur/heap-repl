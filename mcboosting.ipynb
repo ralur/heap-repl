{
 "cells": [
  {
   "cell_type": "markdown",
   "metadata": {},
   "source": [
    "# Welcome to the LSBoosting Notebook for Folktables!"
   ]
  },
  {
   "cell_type": "markdown",
   "metadata": {},
   "source": [
    "In this notebook, you'll be able to import US Census data from Folktables easily via the helper function and then train a LSBoostRegressor using your choice of hyperparameters!"
   ]
  },
  {
   "cell_type": "markdown",
   "metadata": {},
   "source": [
    "### Install/Imports"
   ]
  },
  {
   "cell_type": "code",
   "execution_count": 1,
   "metadata": {},
   "outputs": [],
   "source": [
    "# pip install scikit-learn\n",
    "# pip install tqdm\n",
    "# pip install pandas\n",
    "# pip install seaborn\n",
    "# pip install folktables"
   ]
  },
  {
   "cell_type": "code",
   "execution_count": 2,
   "metadata": {
    "metadata": {}
   },
   "outputs": [
    {
     "name": "stderr",
     "output_type": "stream",
     "text": [
      "/home/ralur/miniconda3/envs/heap/lib/python3.12/site-packages/tqdm/auto.py:21: TqdmWarning: IProgress not found. Please update jupyter and ipywidgets. See https://ipywidgets.readthedocs.io/en/stable/user_install.html\n",
      "  from .autonotebook import tqdm as notebook_tqdm\n"
     ]
    }
   ],
   "source": [
    "\n",
    "import LSBoost\n",
    "# from LSBoost import LSBoostingRegressor\n",
    "import helper_functions as hf\n",
    "\n",
    "import pandas as pd\n",
    "\n",
    "import numpy as np\n",
    "\n",
    "import sklearn as sk\n",
    "from sklearn.model_selection import train_test_split\n",
    "from helper_functions import MSCE as MSCE\n",
    "from sklearn.metrics import mean_squared_error as MSE\n",
    "\n",
    "from sklearn.linear_model import LinearRegression\n",
    "from sklearn.tree import DecisionTreeRegressor\n",
    "from sklearn.tree import DecisionTreeClassifier\n",
    "from sklearn.ensemble import GradientBoostingRegressor\n",
    "from sklearn.linear_model import LogisticRegression\n",
    "\n",
    "import gc\n",
    "import time\n",
    "import warnings\n",
    "\n",
    "warnings.filterwarnings(\"ignore\", category=FutureWarning)"
   ]
  },
  {
   "cell_type": "code",
   "execution_count": 3,
   "metadata": {
    "metadata": {}
   },
   "outputs": [],
   "source": [
    "X = pd.read_csv('./visual-prediction-data/features_labels_wide.csv')\n",
    "h = pd.read_csv('./visual-prediction-data/study_2/responses.csv')"
   ]
  },
  {
   "cell_type": "code",
   "execution_count": 4,
   "metadata": {
    "metadata": {}
   },
   "outputs": [],
   "source": [
    "data = X.drop(['escaped', 'location', 'room'], axis=1)\n",
    "escaped = X['escaped'].map({'Y': 1, 'N': 0})\n"
   ]
  },
  {
   "cell_type": "code",
   "execution_count": 5,
   "metadata": {
    "metadata": {}
   },
   "outputs": [
    {
     "data": {
      "text/html": [
       "<div>\n",
       "<style scoped>\n",
       "    .dataframe tbody tr th:only-of-type {\n",
       "        vertical-align: middle;\n",
       "    }\n",
       "\n",
       "    .dataframe tbody tr th {\n",
       "        vertical-align: top;\n",
       "    }\n",
       "\n",
       "    .dataframe thead th {\n",
       "        text-align: right;\n",
       "    }\n",
       "</style>\n",
       "<table border=\"1\" class=\"dataframe\">\n",
       "  <thead>\n",
       "    <tr style=\"text-align: right;\">\n",
       "      <th></th>\n",
       "      <th>file_id</th>\n",
       "      <th>location_boston</th>\n",
       "      <th>location_arizona</th>\n",
       "      <th>location_texas</th>\n",
       "      <th>location_nyc</th>\n",
       "      <th>room_theater</th>\n",
       "      <th>room_dig</th>\n",
       "      <th>room_office</th>\n",
       "      <th>room_home</th>\n",
       "      <th>room_apartment</th>\n",
       "      <th>...</th>\n",
       "      <th>p_glass</th>\n",
       "      <th>race_NA</th>\n",
       "      <th>race_asian</th>\n",
       "      <th>race_black</th>\n",
       "      <th>race_white</th>\n",
       "      <th>race_entropy</th>\n",
       "      <th>smile_coef_mean</th>\n",
       "      <th>smile_coef_median</th>\n",
       "      <th>smile_coef_std</th>\n",
       "      <th>confidence</th>\n",
       "    </tr>\n",
       "  </thead>\n",
       "  <tbody>\n",
       "    <tr>\n",
       "      <th>0</th>\n",
       "      <td>1010227249025169</td>\n",
       "      <td>1</td>\n",
       "      <td>0</td>\n",
       "      <td>0</td>\n",
       "      <td>0</td>\n",
       "      <td>0</td>\n",
       "      <td>0</td>\n",
       "      <td>1</td>\n",
       "      <td>0</td>\n",
       "      <td>0</td>\n",
       "      <td>...</td>\n",
       "      <td>0.0</td>\n",
       "      <td>3</td>\n",
       "      <td>0</td>\n",
       "      <td>0</td>\n",
       "      <td>7</td>\n",
       "      <td>0.0</td>\n",
       "      <td>54.961</td>\n",
       "      <td>70.882</td>\n",
       "      <td>33.650</td>\n",
       "      <td>2</td>\n",
       "    </tr>\n",
       "    <tr>\n",
       "      <th>1</th>\n",
       "      <td>969078203140074</td>\n",
       "      <td>1</td>\n",
       "      <td>0</td>\n",
       "      <td>0</td>\n",
       "      <td>0</td>\n",
       "      <td>0</td>\n",
       "      <td>0</td>\n",
       "      <td>1</td>\n",
       "      <td>0</td>\n",
       "      <td>0</td>\n",
       "      <td>...</td>\n",
       "      <td>0.0</td>\n",
       "      <td>4</td>\n",
       "      <td>0</td>\n",
       "      <td>0</td>\n",
       "      <td>8</td>\n",
       "      <td>0.0</td>\n",
       "      <td>87.983</td>\n",
       "      <td>95.030</td>\n",
       "      <td>17.712</td>\n",
       "      <td>1</td>\n",
       "    </tr>\n",
       "    <tr>\n",
       "      <th>2</th>\n",
       "      <td>906142969433598</td>\n",
       "      <td>1</td>\n",
       "      <td>0</td>\n",
       "      <td>0</td>\n",
       "      <td>0</td>\n",
       "      <td>0</td>\n",
       "      <td>0</td>\n",
       "      <td>0</td>\n",
       "      <td>0</td>\n",
       "      <td>0</td>\n",
       "      <td>...</td>\n",
       "      <td>0.4</td>\n",
       "      <td>0</td>\n",
       "      <td>0</td>\n",
       "      <td>0</td>\n",
       "      <td>5</td>\n",
       "      <td>0.0</td>\n",
       "      <td>58.330</td>\n",
       "      <td>74.165</td>\n",
       "      <td>24.595</td>\n",
       "      <td>5</td>\n",
       "    </tr>\n",
       "    <tr>\n",
       "      <th>3</th>\n",
       "      <td>880673725313856</td>\n",
       "      <td>1</td>\n",
       "      <td>0</td>\n",
       "      <td>0</td>\n",
       "      <td>0</td>\n",
       "      <td>0</td>\n",
       "      <td>0</td>\n",
       "      <td>0</td>\n",
       "      <td>0</td>\n",
       "      <td>0</td>\n",
       "      <td>...</td>\n",
       "      <td>0.0</td>\n",
       "      <td>2</td>\n",
       "      <td>0</td>\n",
       "      <td>0</td>\n",
       "      <td>5</td>\n",
       "      <td>0.0</td>\n",
       "      <td>52.075</td>\n",
       "      <td>43.388</td>\n",
       "      <td>20.601</td>\n",
       "      <td>5</td>\n",
       "    </tr>\n",
       "    <tr>\n",
       "      <th>4</th>\n",
       "      <td>965696076811620</td>\n",
       "      <td>1</td>\n",
       "      <td>0</td>\n",
       "      <td>0</td>\n",
       "      <td>0</td>\n",
       "      <td>0</td>\n",
       "      <td>0</td>\n",
       "      <td>1</td>\n",
       "      <td>0</td>\n",
       "      <td>0</td>\n",
       "      <td>...</td>\n",
       "      <td>0.0</td>\n",
       "      <td>0</td>\n",
       "      <td>0</td>\n",
       "      <td>0</td>\n",
       "      <td>10</td>\n",
       "      <td>0.0</td>\n",
       "      <td>88.929</td>\n",
       "      <td>93.034</td>\n",
       "      <td>10.039</td>\n",
       "      <td>3</td>\n",
       "    </tr>\n",
       "  </tbody>\n",
       "</table>\n",
       "<p>5 rows × 35 columns</p>\n",
       "</div>"
      ],
      "text/plain": [
       "            file_id  location_boston  location_arizona  location_texas  \\\n",
       "0  1010227249025169                1                 0               0   \n",
       "1   969078203140074                1                 0               0   \n",
       "2   906142969433598                1                 0               0   \n",
       "3   880673725313856                1                 0               0   \n",
       "4   965696076811620                1                 0               0   \n",
       "\n",
       "   location_nyc  room_theater  room_dig  room_office  room_home  \\\n",
       "0             0             0         0            1          0   \n",
       "1             0             0         0            1          0   \n",
       "2             0             0         0            0          0   \n",
       "3             0             0         0            0          0   \n",
       "4             0             0         0            1          0   \n",
       "\n",
       "   room_apartment  ...  p_glass  race_NA  race_asian  race_black  race_white  \\\n",
       "0               0  ...      0.0        3           0           0           7   \n",
       "1               0  ...      0.0        4           0           0           8   \n",
       "2               0  ...      0.4        0           0           0           5   \n",
       "3               0  ...      0.0        2           0           0           5   \n",
       "4               0  ...      0.0        0           0           0          10   \n",
       "\n",
       "   race_entropy  smile_coef_mean  smile_coef_median  smile_coef_std  \\\n",
       "0           0.0           54.961             70.882          33.650   \n",
       "1           0.0           87.983             95.030          17.712   \n",
       "2           0.0           58.330             74.165          24.595   \n",
       "3           0.0           52.075             43.388          20.601   \n",
       "4           0.0           88.929             93.034          10.039   \n",
       "\n",
       "   confidence  \n",
       "0           2  \n",
       "1           1  \n",
       "2           5  \n",
       "3           5  \n",
       "4           3  \n",
       "\n",
       "[5 rows x 35 columns]"
      ]
     },
     "execution_count": 5,
     "metadata": {},
     "output_type": "execute_result"
    }
   ],
   "source": [
    "data.head()"
   ]
  },
  {
   "cell_type": "code",
   "execution_count": 6,
   "metadata": {
    "metadata": {}
   },
   "outputs": [],
   "source": [
    "random_state = 0\n",
    "np.random.seed(random_state)\n",
    "\n",
    "\n",
    "x_train = data[~data['file_id'].isin(h['Img'])]\n",
    "y_train = escaped[~data['file_id'].isin(h['Img'])]\n",
    "\n",
    "x_test = data[data['file_id'].isin(h['Img'])]\n",
    "y_test = escaped[data['file_id'].isin(h['Img'])]\n",
    "\n",
    "\n",
    "x_train_id = x_train['file_id']\n",
    "x_train = x_train.drop(['file_id'], axis = 1)\n",
    "x_test_id = x_test['file_id']\n",
    "x_test = x_test.drop('file_id', axis = 1)\n",
    "\n"
   ]
  },
  {
   "cell_type": "code",
   "execution_count": 7,
   "metadata": {},
   "outputs": [
    {
     "data": {
      "image/png": "[encoded data removed]",
      "text/plain": [
       "<Figure size 640x480 with 1 Axes>"
      ]
     },
     "metadata": {},
     "output_type": "display_data"
    }
   ],
   "source": [
    "# plot histogram of y_train\n",
    "import matplotlib.pyplot as plt\n",
    "\n",
    "plt.hist(y_train)\n",
    "plt.xlabel('Escaped')\n",
    "plt.ylabel('Frequency')\n",
    "plt.title('Histogram of y_train')\n",
    "plt.show()"
   ]
  },
  {
   "cell_type": "code",
   "execution_count": 8,
   "metadata": {
    "metadata": {}
   },
   "outputs": [
    {
     "data": {
      "text/html": [
       "<div>\n",
       "<style scoped>\n",
       "    .dataframe tbody tr th:only-of-type {\n",
       "        vertical-align: middle;\n",
       "    }\n",
       "\n",
       "    .dataframe tbody tr th {\n",
       "        vertical-align: top;\n",
       "    }\n",
       "\n",
       "    .dataframe thead th {\n",
       "        text-align: right;\n",
       "    }\n",
       "</style>\n",
       "<table border=\"1\" class=\"dataframe\">\n",
       "  <thead>\n",
       "    <tr style=\"text-align: right;\">\n",
       "      <th></th>\n",
       "      <th>location_boston</th>\n",
       "      <th>location_arizona</th>\n",
       "      <th>location_texas</th>\n",
       "      <th>location_nyc</th>\n",
       "      <th>room_theater</th>\n",
       "      <th>room_dig</th>\n",
       "      <th>room_office</th>\n",
       "      <th>room_home</th>\n",
       "      <th>room_apartment</th>\n",
       "      <th>room_agency</th>\n",
       "      <th>...</th>\n",
       "      <th>p_glass</th>\n",
       "      <th>race_NA</th>\n",
       "      <th>race_asian</th>\n",
       "      <th>race_black</th>\n",
       "      <th>race_white</th>\n",
       "      <th>race_entropy</th>\n",
       "      <th>smile_coef_mean</th>\n",
       "      <th>smile_coef_median</th>\n",
       "      <th>smile_coef_std</th>\n",
       "      <th>confidence</th>\n",
       "    </tr>\n",
       "  </thead>\n",
       "  <tbody>\n",
       "    <tr>\n",
       "      <th>0</th>\n",
       "      <td>1</td>\n",
       "      <td>0</td>\n",
       "      <td>0</td>\n",
       "      <td>0</td>\n",
       "      <td>0</td>\n",
       "      <td>0</td>\n",
       "      <td>1</td>\n",
       "      <td>0</td>\n",
       "      <td>0</td>\n",
       "      <td>0</td>\n",
       "      <td>...</td>\n",
       "      <td>0.0</td>\n",
       "      <td>3</td>\n",
       "      <td>0</td>\n",
       "      <td>0</td>\n",
       "      <td>7</td>\n",
       "      <td>0.0</td>\n",
       "      <td>54.961</td>\n",
       "      <td>70.882</td>\n",
       "      <td>33.650</td>\n",
       "      <td>2</td>\n",
       "    </tr>\n",
       "    <tr>\n",
       "      <th>1</th>\n",
       "      <td>1</td>\n",
       "      <td>0</td>\n",
       "      <td>0</td>\n",
       "      <td>0</td>\n",
       "      <td>0</td>\n",
       "      <td>0</td>\n",
       "      <td>1</td>\n",
       "      <td>0</td>\n",
       "      <td>0</td>\n",
       "      <td>0</td>\n",
       "      <td>...</td>\n",
       "      <td>0.0</td>\n",
       "      <td>4</td>\n",
       "      <td>0</td>\n",
       "      <td>0</td>\n",
       "      <td>8</td>\n",
       "      <td>0.0</td>\n",
       "      <td>87.983</td>\n",
       "      <td>95.030</td>\n",
       "      <td>17.712</td>\n",
       "      <td>1</td>\n",
       "    </tr>\n",
       "    <tr>\n",
       "      <th>2</th>\n",
       "      <td>1</td>\n",
       "      <td>0</td>\n",
       "      <td>0</td>\n",
       "      <td>0</td>\n",
       "      <td>0</td>\n",
       "      <td>0</td>\n",
       "      <td>0</td>\n",
       "      <td>0</td>\n",
       "      <td>0</td>\n",
       "      <td>0</td>\n",
       "      <td>...</td>\n",
       "      <td>0.4</td>\n",
       "      <td>0</td>\n",
       "      <td>0</td>\n",
       "      <td>0</td>\n",
       "      <td>5</td>\n",
       "      <td>0.0</td>\n",
       "      <td>58.330</td>\n",
       "      <td>74.165</td>\n",
       "      <td>24.595</td>\n",
       "      <td>5</td>\n",
       "    </tr>\n",
       "    <tr>\n",
       "      <th>3</th>\n",
       "      <td>1</td>\n",
       "      <td>0</td>\n",
       "      <td>0</td>\n",
       "      <td>0</td>\n",
       "      <td>0</td>\n",
       "      <td>0</td>\n",
       "      <td>0</td>\n",
       "      <td>0</td>\n",
       "      <td>0</td>\n",
       "      <td>0</td>\n",
       "      <td>...</td>\n",
       "      <td>0.0</td>\n",
       "      <td>2</td>\n",
       "      <td>0</td>\n",
       "      <td>0</td>\n",
       "      <td>5</td>\n",
       "      <td>0.0</td>\n",
       "      <td>52.075</td>\n",
       "      <td>43.388</td>\n",
       "      <td>20.601</td>\n",
       "      <td>5</td>\n",
       "    </tr>\n",
       "    <tr>\n",
       "      <th>4</th>\n",
       "      <td>1</td>\n",
       "      <td>0</td>\n",
       "      <td>0</td>\n",
       "      <td>0</td>\n",
       "      <td>0</td>\n",
       "      <td>0</td>\n",
       "      <td>1</td>\n",
       "      <td>0</td>\n",
       "      <td>0</td>\n",
       "      <td>0</td>\n",
       "      <td>...</td>\n",
       "      <td>0.0</td>\n",
       "      <td>0</td>\n",
       "      <td>0</td>\n",
       "      <td>0</td>\n",
       "      <td>10</td>\n",
       "      <td>0.0</td>\n",
       "      <td>88.929</td>\n",
       "      <td>93.034</td>\n",
       "      <td>10.039</td>\n",
       "      <td>3</td>\n",
       "    </tr>\n",
       "  </tbody>\n",
       "</table>\n",
       "<p>5 rows × 34 columns</p>\n",
       "</div>"
      ],
      "text/plain": [
       "   location_boston  location_arizona  location_texas  location_nyc  \\\n",
       "0                1                 0               0             0   \n",
       "1                1                 0               0             0   \n",
       "2                1                 0               0             0   \n",
       "3                1                 0               0             0   \n",
       "4                1                 0               0             0   \n",
       "\n",
       "   room_theater  room_dig  room_office  room_home  room_apartment  \\\n",
       "0             0         0            1          0               0   \n",
       "1             0         0            1          0               0   \n",
       "2             0         0            0          0               0   \n",
       "3             0         0            0          0               0   \n",
       "4             0         0            1          0               0   \n",
       "\n",
       "   room_agency  ...  p_glass  race_NA  race_asian  race_black  race_white  \\\n",
       "0            0  ...      0.0        3           0           0           7   \n",
       "1            0  ...      0.0        4           0           0           8   \n",
       "2            0  ...      0.4        0           0           0           5   \n",
       "3            0  ...      0.0        2           0           0           5   \n",
       "4            0  ...      0.0        0           0           0          10   \n",
       "\n",
       "   race_entropy  smile_coef_mean  smile_coef_median  smile_coef_std  \\\n",
       "0           0.0           54.961             70.882          33.650   \n",
       "1           0.0           87.983             95.030          17.712   \n",
       "2           0.0           58.330             74.165          24.595   \n",
       "3           0.0           52.075             43.388          20.601   \n",
       "4           0.0           88.929             93.034          10.039   \n",
       "\n",
       "   confidence  \n",
       "0           2  \n",
       "1           1  \n",
       "2           5  \n",
       "3           5  \n",
       "4           3  \n",
       "\n",
       "[5 rows x 34 columns]"
      ]
     },
     "execution_count": 8,
     "metadata": {},
     "output_type": "execute_result"
    }
   ],
   "source": [
    "x_train.head()"
   ]
  },
  {
   "cell_type": "markdown",
   "metadata": {},
   "source": [
    "### Data Control Panel"
   ]
  },
  {
   "cell_type": "markdown",
   "metadata": {},
   "source": [
    "### Hyperparameter Tuning"
   ]
  },
  {
   "cell_type": "code",
   "execution_count": 9,
   "metadata": {},
   "outputs": [],
   "source": [
    "# number of rounds - (integer)\n",
    "T = 100\n",
    "\n",
    "# level sets - (integer)\n",
    "num_bins = 10\n",
    "\n",
    "# minimum number of points in level set for update to occur - (integer)\n",
    "min_group_size = 5\n",
    "\n",
    "# amount (multiplicative) level set must improve by to accept update if validation data or leniency factor for update requirements - (float)\n",
    "global_gamma = .01\n",
    "\n",
    "# weak learner class for UDT - (ML class with .predict method)\n",
    "weak_learner = DecisionTreeRegressor(max_depth=5)\n",
    "\n",
    "# determines width of level sets, either 'default' for equal width or 'distribution' for equal number of expected points - (string)\n",
    "bin_type = 'default'\n",
    "\n",
    "# multiplicative weight for new update - (float)\n",
    "learning_rate = 1\n",
    "\n",
    "# starting model to boost. Set to None for weak learner to be use as initial model - (fit ML class with .predict method or None)\n",
    "initial_model = None\n",
    "\n",
    "# round final predictions to level set center or use output of weak learner - (bool)\n",
    "final_round = False\n",
    "\n",
    "# center level sets using historical mean - (bool)\n",
    "center_mean = False"
   ]
  },
  {
   "cell_type": "markdown",
   "metadata": {},
   "source": [
    "### Train LSBoost Regressor"
   ]
  },
  {
   "cell_type": "code",
   "execution_count": 10,
   "metadata": {
    "metadata": {}
   },
   "outputs": [
    {
     "name": "stderr",
     "output_type": "stream",
     "text": [
      "LS:  35%|\u001b[32m███▌      \u001b[0m 35/100 00:24, Training Error=0.0091150"
     ]
    },
    {
     "name": "stdout",
     "output_type": "stream",
     "text": [
      "Early Termination at round: 36\n",
      "Memory released!\n"
     ]
    },
    {
     "name": "stderr",
     "output_type": "stream",
     "text": [
      "\n"
     ]
    }
   ],
   "source": [
    "LSBoostReg = LSBoost.LSBoostingRegressor(\n",
    "                                T = T, \n",
    "                                num_bins = num_bins, \n",
    "                                min_group_size = min_group_size, \n",
    "                                global_gamma = global_gamma, \n",
    "                                weak_learner= weak_learner, \n",
    "                                bin_type = bin_type, \n",
    "                                learning_rate = learning_rate, \n",
    "                                initial_model = initial_model,  \n",
    "                                final_round = final_round, \n",
    "                                center_mean=center_mean)\n",
    "LSBoostReg.fit(x_train.values, y_train.values)"
   ]
  },
  {
   "cell_type": "markdown",
   "metadata": {},
   "source": [
    "### Predict on train/test data and print MSE/MSCE on train/test"
   ]
  },
  {
   "cell_type": "code",
   "execution_count": 11,
   "metadata": {
    "metadata": {}
   },
   "outputs": [
    {
     "name": "stdout",
     "output_type": "stream",
     "text": [
      "Number of weak learner updates made: 378 \n",
      "\n",
      "Test Accuracy: 0.722115\n",
      "\n",
      "Test Correlation: 0.389033\n",
      "\n"
     ]
    }
   ],
   "source": [
    "print(f'Number of weak learner updates made: {LSBoostReg.updates} \\n')\n",
    "\n",
    "\n",
    "test_predictions = LSBoostReg.predict(x_test.values)\n",
    "print(f'Test Accuracy: {np.mean((y_test == (test_predictions >= .5))):.6f}\\n')\n",
    "test_cor = np.corrcoef(test_predictions, y_test)\n",
    "print(f'Test Correlation: {test_cor[0][1]:.6f}\\n')"
   ]
  },
  {
   "cell_type": "code",
   "execution_count": 12,
   "metadata": {
    "metadata": {}
   },
   "outputs": [
    {
     "data": {
      "image/png": "[encoded data removed]",
      "text/plain": [
       "<Figure size 640x480 with 1 Axes>"
      ]
     },
     "metadata": {},
     "output_type": "display_data"
    }
   ],
   "source": [
    "import matplotlib.pyplot as plt\n",
    "from sklearn.metrics import roc_curve, auc\n",
    "\n",
    "fpr, tpr, thresholds = roc_curve(y_test, test_predictions)\n",
    "roc_auc = auc(fpr, tpr)\n",
    "\n",
    "plt.figure()\n",
    "plt.plot(fpr, tpr, color='darkorange', lw=2, label='ROC curve (area = %0.2f)' % roc_auc)\n",
    "plt.plot([0, 1], [0, 1], color='navy', lw=2, linestyle='--')\n",
    "plt.xlim([0.0, 1.0])\n",
    "plt.ylim([0.0, 1.05])\n",
    "plt.xlabel('False Positive Rate')\n",
    "plt.ylabel('True Positive Rate')\n",
    "plt.title('Receiver Operating Characteristic')\n",
    "plt.legend(loc=\"lower right\")\n",
    "plt.show()\n",
    "\n"
   ]
  },
  {
   "cell_type": "code",
   "execution_count": 13,
   "metadata": {
    "metadata": {}
   },
   "outputs": [],
   "source": [
    "bins = np.ceil(test_predictions * num_bins).astype(int)\n",
    "df = pd.DataFrame({'file_id': x_test_id, 'mc_pred': test_predictions, 'bin': bins})\n",
    "df.to_csv('./mc_predictions.csv', index=False)\n"
   ]
  },
  {
   "cell_type": "code",
   "execution_count": 14,
   "metadata": {
    "metadata": {}
   },
   "outputs": [
    {
     "data": {
      "text/plain": [
       "array([10,  0,  1])"
      ]
     },
     "execution_count": 14,
     "metadata": {},
     "output_type": "execute_result"
    }
   ],
   "source": [
    "df['bin'].unique()"
   ]
  }
 ],
 "metadata": {
  "kernelspec": {
   "display_name": "Python 3 (ipykernel)",
   "language": "python",
   "name": "python3"
  },
  "language_info": {
   "codemirror_mode": {
    "name": "ipython",
    "version": 3
   },
   "file_extension": ".py",
   "mimetype": "text/x-python",
   "name": "python",
   "nbconvert_exporter": "python",
   "pygments_lexer": "ipython3",
   "version": "3.12.3"
  },
  "vscode": {
   "interpreter": {
    "hash": "916dbcbb3f70747c44a77c7bcd40155683ae19c65e1c03b4aa3499c5328201f1"
   }
  }
 },
 "nbformat": 4,
 "nbformat_minor": 4
}
